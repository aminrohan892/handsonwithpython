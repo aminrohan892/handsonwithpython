{
 "cells": [
  {
   "cell_type": "markdown",
   "metadata": {},
   "source": [
    "Problem: - We need to write a program to find the position of a given number in a list of numbers arranged in \n",
    "decreasing order. We also need to minimize the number of times we access elements from the list."
   ]
  },
  {
   "cell_type": "markdown",
   "metadata": {},
   "source": [
    "**1. Define all Inputs and Outputs:**\n",
    "**Input: -** \n",
    "1. cards: - The input will be some kind of list or array of numbers represented in decreasing order.\n",
    "2. query: - A number, whose position in the array is to be determined. E.g 7\n",
    "\n",
    "**Output: -** \n",
    "1. position: - The position of the given number and the lowest number of times it took to get to this position.\n",
    "\n",
    "Based on this we can now create the signature of our function"
   ]
  },
  {
   "cell_type": "code",
   "execution_count": 1,
   "metadata": {},
   "outputs": [],
   "source": [
    "def locate_card(cards,query):\n",
    "    pass"
   ]
  },
  {
   "cell_type": "markdown",
   "metadata": {},
   "source": [
    "**Come up with some example inputs & outputs. Try to cover all edge cases.**\n",
    "Before we start implementing the function, it would be useful to come up with some example inputs and outputs which we can use later to test out problem. We'll refer to them as *test cases*."
   ]
  },
  {
   "cell_type": "code",
   "execution_count": 2,
   "metadata": {},
   "outputs": [],
   "source": [
    "cards = [20,18,15,10,7,6,3,2,1]\n",
    "query = 7\n",
    "output = 4"
   ]
  },
  {
   "cell_type": "markdown",
   "metadata": {},
   "source": [
    "We can test our function by passing the inputs into function and comparing the result with the expected output"
   ]
  },
  {
   "cell_type": "code",
   "execution_count": 3,
   "metadata": {},
   "outputs": [
    {
     "name": "stdout",
     "output_type": "stream",
     "text": [
      "None\n"
     ]
    }
   ],
   "source": [
    "result = locate_card(cards,query)\n",
    "print(result)"
   ]
  },
  {
   "cell_type": "code",
   "execution_count": 4,
   "metadata": {},
   "outputs": [
    {
     "data": {
      "text/plain": [
       "False"
      ]
     },
     "execution_count": 4,
     "metadata": {},
     "output_type": "execute_result"
    }
   ],
   "source": [
    "result == output"
   ]
  },
  {
   "cell_type": "markdown",
   "metadata": {},
   "source": [
    "Going forward every test case will be represented as a dictionary"
   ]
  },
  {
   "cell_type": "code",
   "execution_count": 5,
   "metadata": {},
   "outputs": [],
   "source": [
    "test = {\n",
    "    'input':{\n",
    "        'cards': [13,11,10,7,4,3,1,0],\n",
    "        'query': 7\n",
    "    },\n",
    "    'output' : 3\n",
    "}"
   ]
  },
  {
   "cell_type": "markdown",
   "metadata": {},
   "source": [
    "The function can now be tested as follows"
   ]
  },
  {
   "cell_type": "code",
   "execution_count": 6,
   "metadata": {},
   "outputs": [
    {
     "data": {
      "text/plain": [
       "False"
      ]
     },
     "execution_count": 6,
     "metadata": {},
     "output_type": "execute_result"
    }
   ],
   "source": [
    "#putting ** will take the keys from the dictionary and put values as arguments\n",
    "locate_card(**test['input']) == test['output']"
   ]
  },
  {
   "cell_type": "markdown",
   "metadata": {},
   "source": [
    "**2. Our function should be able to handle any set of valid inputs we pass into it. Here's a list of possible variations we might encounter:**\n",
    "\n",
    "1. The number ```query``` occurs somewhere in the middle of the list ```cards```.\n",
    "2. ```query``` is the first element in ```cards```.\n",
    "3. ```query``` is the last element in ```cards```.\n",
    "4. The list ```cards``` contains just one element, which is ```query```.\n",
    "5. The list ```cards``` contains just one element, which is not ```query```.\n",
    "6. The list ```cards``` does not contain ```query``` element. We will return -1 (don't make assumption, just confirm with someone)\n",
    "7. The list ```cards``` is empty. We will return -1 (don't make assumption, just confirm with someone)\n",
    "8. The list ```cards``` contains repeating numbers.\n",
    "9. The number ```query``` occurs at more than one position in ```cards```.\n",
    "\n",
    "Now, let's create all the test cases"
   ]
  },
  {
   "cell_type": "code",
   "execution_count": 7,
   "metadata": {},
   "outputs": [],
   "source": [
    "# create an empty list\n",
    "tests = []"
   ]
  },
  {
   "cell_type": "code",
   "execution_count": 8,
   "metadata": {},
   "outputs": [],
   "source": [
    "# query occurs in the middle\n",
    "tests.append({\n",
    "    'input' : {\n",
    "        'cards': [13,11,10,7,4,3,1,0],\n",
    "        'query': 7\n",
    "    },\n",
    "    'output' : 3\n",
    "})"
   ]
  },
  {
   "cell_type": "code",
   "execution_count": 9,
   "metadata": {},
   "outputs": [],
   "source": [
    "# query is the first element\n",
    "tests.append({\n",
    "    'input' : {\n",
    "        'cards': [4,2,1,-1],\n",
    "        'query': 4\n",
    "    },\n",
    "    'output' : 0  \n",
    "})"
   ]
  },
  {
   "cell_type": "code",
   "execution_count": 10,
   "metadata": {},
   "outputs": [],
   "source": [
    "# query is the last element\n",
    "tests.append({\n",
    "    'input' : {\n",
    "        'cards' : [3,-1,-9,-126,-127],\n",
    "        'query' : -127\n",
    "    },\n",
    "    'output' : 4\n",
    "})"
   ]
  },
  {
   "cell_type": "code",
   "execution_count": 11,
   "metadata": {},
   "outputs": [],
   "source": [
    "# cards contains just one element, query\n",
    "tests.append({\n",
    "    'input' : {\n",
    "        'cards' : [6],\n",
    "        'query' : 6\n",
    "    },\n",
    "    'output' : 0\n",
    "})"
   ]
  },
  {
   "cell_type": "code",
   "execution_count": 12,
   "metadata": {},
   "outputs": [],
   "source": [
    "# cards does not contain query\n",
    "tests.append({\n",
    "    'input' : {\n",
    "        'cards' : [9,7,5,2,-9],\n",
    "        'query' : 4\n",
    "    },\n",
    "    'output' : -1\n",
    "})"
   ]
  },
  {
   "cell_type": "code",
   "execution_count": 13,
   "metadata": {},
   "outputs": [],
   "source": [
    "# cards is empty\n",
    "tests.append({\n",
    "    'input' : {\n",
    "        'cards' : [],\n",
    "        'query' : 4\n",
    "    },\n",
    "    'output' : -1\n",
    "})"
   ]
  },
  {
   "cell_type": "code",
   "execution_count": 14,
   "metadata": {},
   "outputs": [],
   "source": [
    "# numbers can repeat in cards\n",
    "tests.append({\n",
    "    'input' : {\n",
    "        'cards' : [8,8,6,6,6,6,3,2,2,2,2,0,0],\n",
    "        'query' : 3\n",
    "    },\n",
    "    'output' : 6\n",
    "})"
   ]
  },
  {
   "cell_type": "code",
   "execution_count": 15,
   "metadata": {},
   "outputs": [],
   "source": [
    "# query occurs multiple times\n",
    "tests.append({\n",
    "    'input' : {\n",
    "        'cards' : [8,8,6,6,6,6,3,2,2,2,2,0,0],\n",
    "        'query' : 6\n",
    "    },\n",
    "    'output' : 2\n",
    "})"
   ]
  },
  {
   "cell_type": "markdown",
   "metadata": {},
   "source": [
    "Let's look at the full set of test cases we have created so far."
   ]
  },
  {
   "cell_type": "code",
   "execution_count": 16,
   "metadata": {},
   "outputs": [
    {
     "data": {
      "text/plain": [
       "[{'input': {'cards': [13, 11, 10, 7, 4, 3, 1, 0], 'query': 7}, 'output': 3},\n",
       " {'input': {'cards': [4, 2, 1, -1], 'query': 4}, 'output': 0},\n",
       " {'input': {'cards': [3, -1, -9, -126, -127], 'query': -127}, 'output': 4},\n",
       " {'input': {'cards': [6], 'query': 6}, 'output': 0},\n",
       " {'input': {'cards': [9, 7, 5, 2, -9], 'query': 4}, 'output': -1},\n",
       " {'input': {'cards': [], 'query': 4}, 'output': -1},\n",
       " {'input': {'cards': [8, 8, 6, 6, 6, 6, 3, 2, 2, 2, 2, 0, 0], 'query': 3},\n",
       "  'output': 6},\n",
       " {'input': {'cards': [8, 8, 6, 6, 6, 6, 3, 2, 2, 2, 2, 0, 0], 'query': 6},\n",
       "  'output': 2}]"
      ]
     },
     "execution_count": 16,
     "metadata": {},
     "output_type": "execute_result"
    }
   ],
   "source": [
    "tests"
   ]
  },
  {
   "cell_type": "markdown",
   "metadata": {},
   "source": [
    "**3. Come up with a correct solution for the problem. State it is plain english**\n",
    "\n",
    "In the problem, we can simply turn over cards in order one by one, till we find the card with the qiven number on it. Here is how we can implement:\n",
    "1. Create a variable ```position``` with the value 0.\n",
    "2. Check whether the number at index ```position``` in ```cards``` is equal to ```query```.\n",
    "3. If it does, ```position``` is the answer.\n",
    "4. If not, increment the value of ```position``` by 1, and repeat step 2 to 5 till we reach the last ```position```\n",
    "5. If the number was not found, return -1\n",
    "\n",
    "**Linear Search Algorithm:** Congratulations, we've just written our first algorithm! \n",
    "An algorithm is simply a list of statements which can be converted into code and executed by a computer\n",
    "on different sets of inputs. This particular algorithm is called linear search, since it involves searching\n",
    "through a list in a linear fashion."
   ]
  },
  {
   "cell_type": "markdown",
   "metadata": {},
   "source": [
    "**4. Implement the solution and test it using example inputs. Fix bugs if any**"
   ]
  },
  {
   "cell_type": "code",
   "execution_count": 17,
   "metadata": {},
   "outputs": [],
   "source": [
    "def locate_card_linearsearch(cards,query):\n",
    "    # Create a variable position with initial value 0\n",
    "    position = 0\n",
    "    # Iterate over the list of cards\n",
    "    if cards == []:\n",
    "        # If the current card equals the query, return position\n",
    "        return -1\n",
    "    else:\n",
    "        for i in cards:\n",
    "            if i == query:\n",
    "                # If the current card equals the query,\n",
    "                return position\n",
    "            else:\n",
    "                # Otherwise, increment position by 1\n",
    "                position += 1\n",
    "        # If we've reached here, we didn't find the query\n",
    "        return -1"
   ]
  },
  {
   "cell_type": "code",
   "execution_count": 18,
   "metadata": {},
   "outputs": [
    {
     "name": "stdout",
     "output_type": "stream",
     "text": [
      "True\n",
      "True\n",
      "True\n",
      "True\n",
      "True\n",
      "True\n",
      "True\n",
      "True\n"
     ]
    }
   ],
   "source": [
    "print(locate_card_linearsearch(**tests[0]['input']) == tests[0]['output'])\n",
    "print(locate_card_linearsearch(**tests[1]['input']) == tests[1]['output'])\n",
    "print(locate_card_linearsearch(**tests[2]['input']) == tests[2]['output'])\n",
    "print(locate_card_linearsearch(**tests[3]['input']) == tests[3]['output'])\n",
    "print(locate_card_linearsearch(**tests[4]['input']) == tests[4]['output'])\n",
    "print(locate_card_linearsearch(**tests[5]['input']) == tests[5]['output'])\n",
    "print(locate_card_linearsearch(**tests[6]['input']) == tests[6]['output'])\n",
    "print(locate_card_linearsearch(**tests[7]['input']) == tests[7]['output'])"
   ]
  },
  {
   "cell_type": "markdown",
   "metadata": {},
   "source": [
    "To help us test out functions easily the ```jovian``` Python library provides a helper function ```evaluate_test_case```. Apart from checking whether the function produces the expected result, it also displays the input, expected output, actual output from the function, and the execution time of the function   "
   ]
  },
  {
   "cell_type": "code",
   "execution_count": 19,
   "metadata": {},
   "outputs": [
    {
     "name": "stdout",
     "output_type": "stream",
     "text": [
      "\u001b[33mWARNING: You are using pip version 22.0.4; however, version 23.3.1 is available.\n",
      "You should consider upgrading via the '/Users/rohanamin/.pyenv/versions/3.10.4/bin/python -m pip install --upgrade pip' command.\u001b[0m\u001b[33m\n",
      "\u001b[0mNote: you may need to restart the kernel to use updated packages.\n"
     ]
    }
   ],
   "source": [
    "%pip install jovian --upgrade --quiet"
   ]
  },
  {
   "cell_type": "code",
   "execution_count": 20,
   "metadata": {},
   "outputs": [
    {
     "data": {
      "application/javascript": "if (window.IPython && IPython.notebook.kernel) IPython.notebook.kernel.execute('jovian.utils.jupyter.get_notebook_name_saved = lambda: \"' + IPython.notebook.notebook_name + '\"')",
      "text/plain": [
       "<IPython.core.display.Javascript object>"
      ]
     },
     "metadata": {},
     "output_type": "display_data"
    }
   ],
   "source": [
    "from jovian.pythondsa import evaluate_test_cases, evaluate_test_case"
   ]
  },
  {
   "cell_type": "code",
   "execution_count": 21,
   "metadata": {},
   "outputs": [
    {
     "name": "stdout",
     "output_type": "stream",
     "text": [
      "\n",
      "\u001b[1mTEST CASE #0\u001b[0m\n",
      "\n",
      "Input:\n",
      "{'cards': [13, 11, 10, 7, 4, 3, 1, 0], 'query': 7}\n",
      "\n",
      "Expected Output:\n",
      "3\n",
      "\n",
      "\n",
      "Actual Output:\n",
      "3\n",
      "\n",
      "Execution Time:\n",
      "0.003 ms\n",
      "\n",
      "Test Result:\n",
      "\u001b[92mPASSED\u001b[0m\n",
      "\n",
      "\n",
      "\u001b[1mTEST CASE #1\u001b[0m\n",
      "\n",
      "Input:\n",
      "{'cards': [4, 2, 1, -1], 'query': 4}\n",
      "\n",
      "Expected Output:\n",
      "0\n",
      "\n",
      "\n",
      "Actual Output:\n",
      "0\n",
      "\n",
      "Execution Time:\n",
      "0.002 ms\n",
      "\n",
      "Test Result:\n",
      "\u001b[92mPASSED\u001b[0m\n",
      "\n",
      "\n",
      "\u001b[1mTEST CASE #2\u001b[0m\n",
      "\n",
      "Input:\n",
      "{'cards': [3, -1, -9, -126, -127], 'query': -127}\n",
      "\n",
      "Expected Output:\n",
      "4\n",
      "\n",
      "\n",
      "Actual Output:\n",
      "4\n",
      "\n",
      "Execution Time:\n",
      "0.002 ms\n",
      "\n",
      "Test Result:\n",
      "\u001b[92mPASSED\u001b[0m\n",
      "\n",
      "\n",
      "\u001b[1mTEST CASE #3\u001b[0m\n",
      "\n",
      "Input:\n",
      "{'cards': [6], 'query': 6}\n",
      "\n",
      "Expected Output:\n",
      "0\n",
      "\n",
      "\n",
      "Actual Output:\n",
      "0\n",
      "\n",
      "Execution Time:\n",
      "0.001 ms\n",
      "\n",
      "Test Result:\n",
      "\u001b[92mPASSED\u001b[0m\n",
      "\n",
      "\n",
      "\u001b[1mTEST CASE #4\u001b[0m\n",
      "\n",
      "Input:\n",
      "{'cards': [9, 7, 5, 2, -9], 'query': 4}\n",
      "\n",
      "Expected Output:\n",
      "-1\n",
      "\n",
      "\n",
      "Actual Output:\n",
      "-1\n",
      "\n",
      "Execution Time:\n",
      "0.002 ms\n",
      "\n",
      "Test Result:\n",
      "\u001b[92mPASSED\u001b[0m\n",
      "\n",
      "\n",
      "\u001b[1mTEST CASE #5\u001b[0m\n",
      "\n",
      "Input:\n",
      "{'cards': [], 'query': 4}\n",
      "\n",
      "Expected Output:\n",
      "-1\n",
      "\n",
      "\n",
      "Actual Output:\n",
      "-1\n",
      "\n",
      "Execution Time:\n",
      "0.001 ms\n",
      "\n",
      "Test Result:\n",
      "\u001b[92mPASSED\u001b[0m\n",
      "\n",
      "\n",
      "\u001b[1mTEST CASE #6\u001b[0m\n",
      "\n",
      "Input:\n",
      "{'cards': [8, 8, 6, 6, 6, 6, 3, 2, 2, 2, 2, 0, 0], 'query': 3}\n",
      "\n",
      "Expected Output:\n",
      "6\n",
      "\n",
      "\n",
      "Actual Output:\n",
      "6\n",
      "\n",
      "Execution Time:\n",
      "0.002 ms\n",
      "\n",
      "Test Result:\n",
      "\u001b[92mPASSED\u001b[0m\n",
      "\n",
      "\n",
      "\u001b[1mTEST CASE #7\u001b[0m\n",
      "\n",
      "Input:\n",
      "{'cards': [8, 8, 6, 6, 6, 6, 3, 2, 2, 2, 2, 0, 0], 'query': 6}\n",
      "\n",
      "Expected Output:\n",
      "2\n",
      "\n",
      "\n",
      "Actual Output:\n",
      "2\n",
      "\n",
      "Execution Time:\n",
      "0.001 ms\n",
      "\n",
      "Test Result:\n",
      "\u001b[92mPASSED\u001b[0m\n",
      "\n",
      "\n",
      "\u001b[1mSUMMARY\u001b[0m\n",
      "\n",
      "TOTAL: 8, \u001b[92mPASSED\u001b[0m: 8, \u001b[91mFAILED\u001b[0m: 0\n"
     ]
    },
    {
     "data": {
      "text/plain": [
       "[(3, True, 0.003),\n",
       " (0, True, 0.002),\n",
       " (4, True, 0.002),\n",
       " (0, True, 0.001),\n",
       " (-1, True, 0.002),\n",
       " (-1, True, 0.001),\n",
       " (6, True, 0.002),\n",
       " (2, True, 0.001)]"
      ]
     },
     "execution_count": 21,
     "metadata": {},
     "output_type": "execute_result"
    }
   ],
   "source": [
    "evaluate_test_cases(locate_card_linearsearch, tests)"
   ]
  },
  {
   "cell_type": "markdown",
   "metadata": {},
   "source": [
    "**5. Analyze the algorithm's complexity and identiy inefficiencies, if any.**\n",
    "Since we access the list element once in every iterations, for a list of size ```N``` we access the elements from the list up to ```N``` times. Thus, we may need to overturn up to ```N``` cards in the worst case, to find the required card. \n",
    "\n",
    "Suppose we are allowed to overturn 1 card per minute, it may take 30 minutes to find the required card if the list contains 30 cards. \n",
    "\n",
    "The field of study concerned with finding the amount of time, space or other resources required to complete the execution of computer programs is called the *analysis of algorithm*. And the process of figuring out the best algorithm to solve a given problem is called *algorithm design and optimization.*\n",
    "\n",
    "\n",
    "**Complexity & Big O Notations**\n",
    "\n",
    "Complexity of an algorithm is a measure of the amount of time and/or space required by an algorithm for an input\n",
    "of a given size e.g. ```N```. Unless otherwise stated, the term *Complexity* always refer to the worst case.\n",
    "\n",
    "In the case of Linear Search:\n",
    "\n",
    "1. The *Time Complexity* of the algorithm is ```cN``` for some fixed constant ```c``` that depends on the number of operations we perform in each iteration and the time taken to execute a statement. Time complexity is sometimes also called the *running time* of the algorithm.\n",
    "2. The *Space Complexity* is some constant ```c'``` (independent of ```N```), since we just need a single variable ```position``` to iterate through the array, and it occupies a constant space in the computer's memory(RAM).\n",
    "\n",
    "    **Big O Notation:** Worst-case complexity is often expressed using the Big O Notation. In the Big O, we drop fixed constants and lower powers of variables to capture the trend of relationship between the size of the input and the complexity of the algorithm i.e. If the complexity of the algorithm is ```cN^3 + dN^2 + eN + f```, in the Big O notation it is expressed as **```O(N^3)```**\n",
    "\n",
    "Therefore in our example, the time complexity of Linear Search algorithm is **```O(N)```** as we dropped the constant ```c``` and the space complexity is **```O(1)```** as we dropped the constant ```c'```.\n"
   ]
  },
  {
   "cell_type": "markdown",
   "metadata": {},
   "source": [
    "**6. Apply the right technique to overcome the inefficiency. Repeat steps 3 to 6.**\n",
    "\n",
    "In the previous steps we used *brute force* approach to check for each number ```N``` in the given list. We didn't utilize the fact that the list is ordered. \n",
    "\n",
    "Given that the list is sorted in decreasing order, what if we pick a number ```N``` at a random ```position``` and if that number if greater than our ```query``` number than it means that all the other cards before this ```position``` are also greater and therefore we don't need to look into those numbers. \n",
    "\n",
    "So the best approach is to just pick the ```middle_position``` and check against our ```query``` number. If it is greater we can eliminate all the numbers before the ```middle_position``` and only look into the number after the ```middle_position```. We can repeat this again with the remaining list. This Technique is called **Binary Search**."
   ]
  },
  {
   "cell_type": "markdown",
   "metadata": {},
   "source": [
    "**7. Come up with a correct solution for the problem. State it in plain english.**\n",
    "Here's how Binary Search can be applied to our problem:\n",
    "1. Get the length ```full_len``` of the list.\n",
    "2. Find the ```middle_position``` element of the list.\n",
    "3. If it matches to ```query``` number, return the position as the answer.\n",
    "4. If it doesn't match than compare the ```query``` number with the number ```N``` in the ```middle_position```.\n",
    "5. If it is greater to ```query``` number, than get the length of the remaining list from ```middle_position``` to the ```full_len``` and repeat step 2 to 4.\n",
    "6. If it is smaller to ```query``` number, than get the length of the remaining list from ```0``` to ```middle_position``` and repeat steps 2 to 4.\n",
    "7. If it still doesn't find a match return -1."
   ]
  },
  {
   "cell_type": "markdown",
   "metadata": {},
   "source": [
    "**8. Implement the Binary Search Algorithm.**"
   ]
  },
  {
   "cell_type": "code",
   "execution_count": 70,
   "metadata": {},
   "outputs": [],
   "source": [
    "def get_length_and_middle(cards):\n",
    "    if cards == []:\n",
    "        return 0,0,0\n",
    "    else:\n",
    "        length = len(cards) - 1\n",
    "        middle_position = (length // 2)\n",
    "        middle_value = cards[middle_position]\n",
    "        return length, middle_position, middle_value"
   ]
  },
  {
   "cell_type": "code",
   "execution_count": 106,
   "metadata": {},
   "outputs": [],
   "source": [
    "def when_middle_is_larger_than_query(cards, query, middle_position, track_position,middle_value):\n",
    "    cards = cards[1 + middle_position:]\n",
    "    if cards == []:\n",
    "        return cards, -1, middle_position, middle_value\n",
    "    else:\n",
    "        length, middle_position, middle_value = get_length_and_middle(cards)\n",
    "        print(f\"Middle value is larger than query, New list is: {cards}\")\n",
    "        if middle_position == 0:\n",
    "            track_position = track_position + 1\n",
    "        elif middle_position != 0:            \n",
    "            track_position = track_position + middle_position\n",
    "        print(f\"new track position is: {track_position}\")\n",
    "    return cards, track_position, middle_position, middle_value, length"
   ]
  },
  {
   "cell_type": "code",
   "execution_count": 107,
   "metadata": {},
   "outputs": [],
   "source": [
    "def when_middle_is_smaller_than_query(cards, query, middle_position, track_position, middle_value):\n",
    "    if middle_position == 0:\n",
    "        return cards, -1, middle_position, middle_value\n",
    "    else:\n",
    "        cards = cards[:middle_position]\n",
    "        if cards == []:\n",
    "            return cards, -1, middle_position, middle_value\n",
    "        else:\n",
    "            length, middle_position, middle_value = get_length_and_middle(cards)\n",
    "            print(f\"Middle value is smaller than query, New list is: {cards}\")\n",
    "            if middle_position == 0:\n",
    "                track_position = track_position - 1\n",
    "            else:    \n",
    "                track_position = len(cards) - 1\n",
    "            print(f\"new track position is: {track_position}\")\n",
    "        return cards, track_position, middle_position, middle_value, length"
   ]
  },
  {
   "cell_type": "code",
   "execution_count": 108,
   "metadata": {},
   "outputs": [],
   "source": [
    "def locate_cards_binarysearch(cards, query):\n",
    "    print(f\"Starting list is: {cards}\")\n",
    "    # Create a variable position with initial value 0, length of cards\n",
    "    position = 0\n",
    "    length, middle_position, middle_value = get_length_and_middle(cards)\n",
    "    track_position = middle_position\n",
    "    # Iterate over the list of cards\n",
    "    if cards == []:\n",
    "        # If the current card equals the query, return position\n",
    "        return -1\n",
    "    else:\n",
    "        while middle_position != 0 or middle_position != len(cards) - 1:\n",
    "            print(f\"Middle position is: {middle_position}, Middle value is: {middle_value}, Length is: {length}, Track position is: {track_position}\")\n",
    "            if middle_value == query:\n",
    "                return track_position\n",
    "            elif middle_value > query:\n",
    "                if track_position == len(cards) - 1:\n",
    "                    return track_position\n",
    "                else:\n",
    "                    cards, track_position, middle_position, middle_value, length = when_middle_is_larger_than_query(cards, query, middle_position, track_position, middle_value)\n",
    "            elif middle_value < query:\n",
    "                if track_position == -1:\n",
    "                    return track_position\n",
    "                else:\n",
    "                    cards, track_position, middle_position, middle_value, length = when_middle_is_smaller_than_query(cards, query, middle_position, track_position, middle_value)\n",
    "        return track_position"
   ]
  },
  {
   "cell_type": "code",
   "execution_count": 109,
   "metadata": {},
   "outputs": [
    {
     "name": "stdout",
     "output_type": "stream",
     "text": [
      "\n",
      "Input:\n",
      "{'cards': [8, 8, 6, 6, 6, 6, 3, 2, 2, 2, 2, 0, 0], 'query': 6}\n",
      "\n",
      "Expected Output:\n",
      "2\n",
      "\n",
      "Starting list is: [8, 8, 6, 6, 6, 6, 3, 2, 2, 2, 2, 0, 0]\n",
      "Middle position is: 6, Middle value is: 3, Length is: 12, Track position is: 6\n",
      "Middle value is smaller than query, New list is: [8, 8, 6, 6, 6, 6]\n",
      "new track position is: 5\n",
      "Middle position is: 2, Middle value is: 6, Length is: 5, Track position is: 5\n",
      "\n",
      "Actual Output:\n",
      "5\n",
      "\n",
      "Execution Time:\n",
      "0.125 ms\n",
      "\n",
      "Test Result:\n",
      "\u001b[91mFAILED\u001b[0m\n",
      "\n"
     ]
    },
    {
     "data": {
      "text/plain": [
       "(5, False, 0.125)"
      ]
     },
     "execution_count": 109,
     "metadata": {},
     "output_type": "execute_result"
    }
   ],
   "source": [
    "evaluate_test_case(locate_cards_binarysearch, tests[7])   "
   ]
  },
  {
   "cell_type": "markdown",
   "metadata": {},
   "source": [
    "*Alternative Solution based*"
   ]
  },
  {
   "cell_type": "code",
   "execution_count": 28,
   "metadata": {},
   "outputs": [],
   "source": [
    "def locate_cards_binarysearch2(cards,query):\n",
    "    # Create a variable position with initial value 0, length of cards\n",
    "    low, high = 0, len(cards) - 1\n",
    "    # Iterate over the list of cards\n",
    "    while low <= high:\n",
    "        mid = (low + high) // 2\n",
    "        mid_val = cards[mid]\n",
    "        print(f\"mid is: {mid}, high is: {high}, low is: {low}, mid value is: {mid_val}\")\n",
    "        if mid_val == query:\n",
    "            return mid\n",
    "        elif mid_val > query:\n",
    "            high = mid - 1\n",
    "        elif mid_val < query:\n",
    "            low = mid + 1\n",
    "    return -1"
   ]
  },
  {
   "cell_type": "code",
   "execution_count": 29,
   "metadata": {},
   "outputs": [
    {
     "name": "stdout",
     "output_type": "stream",
     "text": [
      "\n",
      "\u001b[1mTEST CASE #0\u001b[0m\n",
      "mid is: 3, high is: 7, low is: 0, mid value is: 7\n",
      "\n",
      "Input:\n",
      "{'cards': [13, 11, 10, 7, 4, 3, 1, 0], 'query': 7}\n",
      "\n",
      "Expected Output:\n",
      "3\n",
      "\n",
      "\n",
      "Actual Output:\n",
      "3\n",
      "\n",
      "Execution Time:\n",
      "0.009 ms\n",
      "\n",
      "Test Result:\n",
      "\u001b[92mPASSED\u001b[0m\n",
      "\n",
      "\n",
      "\u001b[1mTEST CASE #1\u001b[0m\n",
      "mid is: 1, high is: 3, low is: 0, mid value is: 2\n",
      "mid is: 2, high is: 3, low is: 2, mid value is: 1\n",
      "mid is: 3, high is: 3, low is: 3, mid value is: -1\n",
      "\n",
      "Input:\n",
      "{'cards': [4, 2, 1, -1], 'query': 4}\n",
      "\n",
      "Expected Output:\n",
      "0\n",
      "\n",
      "\n",
      "Actual Output:\n",
      "-1\n",
      "\n",
      "Execution Time:\n",
      "0.014 ms\n",
      "\n",
      "Test Result:\n",
      "\u001b[91mFAILED\u001b[0m\n",
      "\n",
      "\n",
      "\u001b[1mTEST CASE #2\u001b[0m\n",
      "mid is: 2, high is: 4, low is: 0, mid value is: -9\n",
      "mid is: 0, high is: 1, low is: 0, mid value is: 3\n",
      "\n",
      "Input:\n",
      "{'cards': [3, -1, -9, -126, -127], 'query': -127}\n",
      "\n",
      "Expected Output:\n",
      "4\n",
      "\n",
      "\n",
      "Actual Output:\n",
      "-1\n",
      "\n",
      "Execution Time:\n",
      "0.01 ms\n",
      "\n",
      "Test Result:\n",
      "\u001b[91mFAILED\u001b[0m\n",
      "\n",
      "\n",
      "\u001b[1mTEST CASE #3\u001b[0m\n",
      "mid is: 0, high is: 0, low is: 0, mid value is: 6\n",
      "\n",
      "Input:\n",
      "{'cards': [6], 'query': 6}\n",
      "\n",
      "Expected Output:\n",
      "0\n",
      "\n",
      "\n",
      "Actual Output:\n",
      "0\n",
      "\n",
      "Execution Time:\n",
      "0.006 ms\n",
      "\n",
      "Test Result:\n",
      "\u001b[92mPASSED\u001b[0m\n",
      "\n",
      "\n",
      "\u001b[1mTEST CASE #4\u001b[0m\n",
      "mid is: 2, high is: 4, low is: 0, mid value is: 5\n",
      "mid is: 0, high is: 1, low is: 0, mid value is: 9\n",
      "\n",
      "Input:\n",
      "{'cards': [9, 7, 5, 2, -9], 'query': 4}\n",
      "\n",
      "Expected Output:\n",
      "-1\n",
      "\n",
      "\n",
      "Actual Output:\n",
      "-1\n",
      "\n",
      "Execution Time:\n",
      "0.009 ms\n",
      "\n",
      "Test Result:\n",
      "\u001b[92mPASSED\u001b[0m\n",
      "\n",
      "\n",
      "\u001b[1mTEST CASE #5\u001b[0m\n",
      "\n",
      "Input:\n",
      "{'cards': [], 'query': 4}\n",
      "\n",
      "Expected Output:\n",
      "-1\n",
      "\n",
      "\n",
      "Actual Output:\n",
      "-1\n",
      "\n",
      "Execution Time:\n",
      "0.001 ms\n",
      "\n",
      "Test Result:\n",
      "\u001b[92mPASSED\u001b[0m\n",
      "\n",
      "\n",
      "\u001b[1mTEST CASE #6\u001b[0m\n",
      "mid is: 6, high is: 12, low is: 0, mid value is: 3\n",
      "\n",
      "Input:\n",
      "{'cards': [8, 8, 6, 6, 6, 6, 3, 2, 2, 2, 2, 0, 0], 'query': 3}\n",
      "\n",
      "Expected Output:\n",
      "6\n",
      "\n",
      "\n",
      "Actual Output:\n",
      "6\n",
      "\n",
      "Execution Time:\n",
      "0.005 ms\n",
      "\n",
      "Test Result:\n",
      "\u001b[92mPASSED\u001b[0m\n",
      "\n",
      "\n",
      "\u001b[1mTEST CASE #7\u001b[0m\n",
      "mid is: 6, high is: 12, low is: 0, mid value is: 3\n",
      "mid is: 9, high is: 12, low is: 7, mid value is: 2\n",
      "mid is: 11, high is: 12, low is: 10, mid value is: 0\n",
      "mid is: 12, high is: 12, low is: 12, mid value is: 0\n",
      "\n",
      "Input:\n",
      "{'cards': [8, 8, 6, 6, 6, 6, 3, 2, 2, 2, 2, 0, 0], 'query': 6}\n",
      "\n",
      "Expected Output:\n",
      "2\n",
      "\n",
      "\n",
      "Actual Output:\n",
      "-1\n",
      "\n",
      "Execution Time:\n",
      "0.017 ms\n",
      "\n",
      "Test Result:\n",
      "\u001b[91mFAILED\u001b[0m\n",
      "\n",
      "\n",
      "\u001b[1mSUMMARY\u001b[0m\n",
      "\n",
      "TOTAL: 8, \u001b[92mPASSED\u001b[0m: 5, \u001b[91mFAILED\u001b[0m: 3\n"
     ]
    },
    {
     "data": {
      "text/plain": [
       "[(3, True, 0.009),\n",
       " (-1, False, 0.014),\n",
       " (-1, False, 0.01),\n",
       " (0, True, 0.006),\n",
       " (-1, True, 0.009),\n",
       " (-1, True, 0.001),\n",
       " (6, True, 0.005),\n",
       " (-1, False, 0.017)]"
      ]
     },
     "execution_count": 29,
     "metadata": {},
     "output_type": "execute_result"
    }
   ],
   "source": [
    "evaluate_test_cases(locate_cards_binarysearch2, tests)"
   ]
  },
  {
   "cell_type": "code",
   "execution_count": 30,
   "metadata": {},
   "outputs": [
    {
     "data": {
      "text/plain": [
       "[{'input': {'cards': [13, 11, 10, 7, 4, 3, 1, 0], 'query': 7}, 'output': 3},\n",
       " {'input': {'cards': [4, 2, 1, -1], 'query': 4}, 'output': 0},\n",
       " {'input': {'cards': [3, -1, -9, -126, -127], 'query': -127}, 'output': 4},\n",
       " {'input': {'cards': [6], 'query': 6}, 'output': 0},\n",
       " {'input': {'cards': [9, 7, 5, 2, -9], 'query': 4}, 'output': -1},\n",
       " {'input': {'cards': [], 'query': 4}, 'output': -1},\n",
       " {'input': {'cards': [8, 8, 6, 6, 6, 6, 3, 2, 2, 2, 2, 0, 0], 'query': 3},\n",
       "  'output': 6},\n",
       " {'input': {'cards': [8, 8, 6, 6, 6, 6, 3, 2, 2, 2, 2, 0, 0], 'query': 6},\n",
       "  'output': 2}]"
      ]
     },
     "execution_count": 30,
     "metadata": {},
     "output_type": "execute_result"
    }
   ],
   "source": [
    "tests"
   ]
  },
  {
   "cell_type": "code",
   "execution_count": 31,
   "metadata": {},
   "outputs": [
    {
     "data": {
      "text/plain": [
       "[]"
      ]
     },
     "execution_count": 31,
     "metadata": {},
     "output_type": "execute_result"
    }
   ],
   "source": [
    "testcards = [2,-9]\n",
    "testcards2 = testcards[1+0:]\n",
    "testcards2\n",
    "testcards3 = testcards2[:0]\n",
    "testcards3"
   ]
  },
  {
   "cell_type": "code",
   "execution_count": null,
   "metadata": {},
   "outputs": [],
   "source": []
  }
 ],
 "metadata": {
  "kernelspec": {
   "display_name": "Python 3",
   "language": "python",
   "name": "python3"
  },
  "language_info": {
   "codemirror_mode": {
    "name": "ipython",
    "version": 3
   },
   "file_extension": ".py",
   "mimetype": "text/x-python",
   "name": "python",
   "nbconvert_exporter": "python",
   "pygments_lexer": "ipython3",
   "version": "3.10.4"
  },
  "orig_nbformat": 4
 },
 "nbformat": 4,
 "nbformat_minor": 2
}
