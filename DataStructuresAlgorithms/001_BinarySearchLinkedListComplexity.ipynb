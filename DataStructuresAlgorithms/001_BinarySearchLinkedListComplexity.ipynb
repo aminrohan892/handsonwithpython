{
 "cells": [
  {
   "cell_type": "markdown",
   "metadata": {},
   "source": [
    "Problem: - We need to write a program to find the position of a given number in a list of numbers arranged in \n",
    "decreasing order. We also need to minimize the number of times we access elements from the list."
   ]
  },
  {
   "cell_type": "markdown",
   "metadata": {},
   "source": [
    "**1. Define all Inputs and Outputs:**\n",
    "**Input: -** \n",
    "1. cards: - The input will be some kind of list or array of numbers represented in decreasing order.\n",
    "2. query: - A number, whose position in the array is to be determined. E.g 7\n",
    "\n",
    "**Output: -** \n",
    "1. position: - The position of the given number and the lowest number of times it took to get to this position.\n",
    "\n",
    "Based on this we can now create the signature of our function"
   ]
  },
  {
   "cell_type": "code",
   "execution_count": 2,
   "metadata": {},
   "outputs": [],
   "source": [
    "def locate_card(cards,query):\n",
    "    pass"
   ]
  },
  {
   "cell_type": "markdown",
   "metadata": {},
   "source": [
    "**Come up with some example inputs & outputs. Try to cover all edge cases.**\n",
    "Before we start implementing the function, it would be useful to come up with some example inputs and outputs which we can use later to test out problem. We'll refer to them as *test cases*."
   ]
  },
  {
   "cell_type": "code",
   "execution_count": 3,
   "metadata": {},
   "outputs": [],
   "source": [
    "cards = [20,18,15,10,7,6,3,2,1]\n",
    "query = 7\n",
    "output = 4"
   ]
  },
  {
   "cell_type": "markdown",
   "metadata": {},
   "source": [
    "We can test our function by passing the inputs into function and comparing the result with the expected output"
   ]
  },
  {
   "cell_type": "code",
   "execution_count": 4,
   "metadata": {},
   "outputs": [
    {
     "name": "stdout",
     "output_type": "stream",
     "text": [
      "None\n"
     ]
    }
   ],
   "source": [
    "result = locate_card(cards,query)\n",
    "print(result)"
   ]
  },
  {
   "cell_type": "code",
   "execution_count": 5,
   "metadata": {},
   "outputs": [
    {
     "data": {
      "text/plain": [
       "False"
      ]
     },
     "execution_count": 5,
     "metadata": {},
     "output_type": "execute_result"
    }
   ],
   "source": [
    "result == output"
   ]
  },
  {
   "cell_type": "markdown",
   "metadata": {},
   "source": [
    "Going forward every test case will be represented as a dictionary"
   ]
  },
  {
   "cell_type": "code",
   "execution_count": 6,
   "metadata": {},
   "outputs": [],
   "source": [
    "test = {\n",
    "    'input':{\n",
    "        'cards': [13,11,10,7,4,3,1,0],\n",
    "        'query': 7\n",
    "    },\n",
    "    'output' : 3\n",
    "}"
   ]
  },
  {
   "cell_type": "markdown",
   "metadata": {},
   "source": [
    "The function can now be tested as follows"
   ]
  },
  {
   "cell_type": "code",
   "execution_count": 8,
   "metadata": {},
   "outputs": [
    {
     "data": {
      "text/plain": [
       "False"
      ]
     },
     "execution_count": 8,
     "metadata": {},
     "output_type": "execute_result"
    }
   ],
   "source": [
    "#putting ** will take the keys from the dictionary and put values as arguments\n",
    "locate_card(**test['input']) == test['output']"
   ]
  },
  {
   "cell_type": "markdown",
   "metadata": {},
   "source": [
    "**2. Our function should be able to handle any set of valid inputs we pass into it. Here's a list of possible variations we might encounter:**\n",
    "\n",
    "1. The number ```query``` occurs somewhere in the middle of the list ```cards```.\n",
    "2. ```query``` is the first element in ```cards```.\n",
    "3. ```query``` is the last element in ```cards```.\n",
    "4. The list ```cards``` contains just one element, which is ```query```.\n",
    "5. The list ```cards``` contains just one element, which is not ```query```.\n",
    "6. The list ```cards``` does not contain ```query``` element. We will return -1 (don't make assumption, just confirm with someone)\n",
    "7. The list ```cards``` is empty. We will return -1 (don't make assumption, just confirm with someone)\n",
    "8. The list ```cards``` contains repeating numbers.\n",
    "9. The number ```query``` occurs at more than one position in ```cards```.\n",
    "\n",
    "Now, let's create all the test cases"
   ]
  },
  {
   "cell_type": "code",
   "execution_count": 35,
   "metadata": {},
   "outputs": [],
   "source": [
    "# create an empty list\n",
    "tests = []"
   ]
  },
  {
   "cell_type": "code",
   "execution_count": 36,
   "metadata": {},
   "outputs": [],
   "source": [
    "# query occurs in the middle\n",
    "tests.append({\n",
    "    'input' : {\n",
    "        'cards': [13,11,10,7,4,3,1,0],\n",
    "        'query': 7\n",
    "    },\n",
    "    'output' : 3\n",
    "})"
   ]
  },
  {
   "cell_type": "code",
   "execution_count": 37,
   "metadata": {},
   "outputs": [],
   "source": [
    "# query is the first element\n",
    "tests.append({\n",
    "    'input' : {\n",
    "        'cards': [4,2,1,-1],\n",
    "        'query': 4\n",
    "    },\n",
    "    'output' : 0  \n",
    "})"
   ]
  },
  {
   "cell_type": "code",
   "execution_count": 38,
   "metadata": {},
   "outputs": [],
   "source": [
    "# query is the last element\n",
    "tests.append({\n",
    "    'input' : {\n",
    "        'cards' : [3,-1,-9,-127],\n",
    "        'query' : -127\n",
    "    },\n",
    "    'output' : 3\n",
    "})"
   ]
  },
  {
   "cell_type": "code",
   "execution_count": 39,
   "metadata": {},
   "outputs": [],
   "source": [
    "# cards contains just one element, query\n",
    "tests.append({\n",
    "    'input' : {\n",
    "        'cards' : [6],\n",
    "        'query' : 6\n",
    "    },\n",
    "    'output' : 0\n",
    "})"
   ]
  },
  {
   "cell_type": "code",
   "execution_count": 40,
   "metadata": {},
   "outputs": [],
   "source": [
    "# cards does not contain query\n",
    "tests.append({\n",
    "    'input' : {\n",
    "        'cards' : [9,7,5,2,-9],\n",
    "        'query' : 4\n",
    "    },\n",
    "    'output' : -1\n",
    "})"
   ]
  },
  {
   "cell_type": "code",
   "execution_count": 41,
   "metadata": {},
   "outputs": [],
   "source": [
    "# cards is empty\n",
    "tests.append({\n",
    "    'input' : {\n",
    "        'cards' : [],\n",
    "        'query' : 4\n",
    "    },\n",
    "    'output' : -1\n",
    "})"
   ]
  },
  {
   "cell_type": "code",
   "execution_count": 42,
   "metadata": {},
   "outputs": [],
   "source": [
    "# numbers can repeat in cards\n",
    "tests.append({\n",
    "    'input' : {\n",
    "        'cards' : [8,8,6,6,6,6,3,2,2,2,2,0,0],\n",
    "        'query' : 3\n",
    "    },\n",
    "    'output' : 6\n",
    "})"
   ]
  },
  {
   "cell_type": "code",
   "execution_count": 43,
   "metadata": {},
   "outputs": [],
   "source": [
    "# query occurs multiple times\n",
    "tests.append({\n",
    "    'input' : {\n",
    "        'cards' : [8,8,6,6,6,6,3,2,2,2,2,0,0],\n",
    "        'query' : 6\n",
    "    },\n",
    "    'output' : 2\n",
    "})"
   ]
  },
  {
   "cell_type": "markdown",
   "metadata": {},
   "source": [
    "Let's look at the full set of test cases we have created so far."
   ]
  },
  {
   "cell_type": "code",
   "execution_count": 32,
   "metadata": {},
   "outputs": [
    {
     "data": {
      "text/plain": [
       "[{'input': {'cards': [13, 11, 10, 7, 4, 3, 1, 0], 'query': 7}, 'output': 6},\n",
       " {'input': {'cards': [4, 2, 1, -1], 'query': 4}, 'output': 0},\n",
       " {'input': {'cards': [3, -1, -9, -127], 'query': -127}, 'output': 3},\n",
       " {'input': {'cards': [6], 'query': 6}, 'output': 0},\n",
       " {'input': {'cards': [9, 7, 5, 2, -9], 'query': 4}, 'output': -1},\n",
       " {'input': {'cards': [], 'query': 4}, 'output': -1},\n",
       " {'input': {'cards': [8, 8, 6, 6, 6, 6, 3, 2, 2, 2, 2, 0, 0], 'query': 3},\n",
       "  'output': 6},\n",
       " {'input': {'cards': [8, 8, 6, 6, 6, 6, 3, 2, 2, 2, 2, 0, 0], 'query': 6},\n",
       "  'output': 2}]"
      ]
     },
     "execution_count": 32,
     "metadata": {},
     "output_type": "execute_result"
    }
   ],
   "source": [
    "tests"
   ]
  },
  {
   "cell_type": "markdown",
   "metadata": {},
   "source": [
    "3. Come up with a correct solution for the problem. State it is plain english\n",
    "\n",
    "In the problem, we can simply turn over cards in order one by one, till we find the card with the qiven number on it. Here is how we can implement:\n",
    "1. Create a variable ```position``` with the value 0.\n",
    "2. Check whether the number at index ```position``` in ```cards``` is equal to ```query```.\n",
    "3. If it does, ```position``` is the answer.\n",
    "4. If not, increment the value of ```position``` by 1, and repeat step 2 to 5 till we reach the last ```position```\n",
    "5. If the number was not found, return -1\n",
    "\n",
    "**Linear Search Algorithm:** Congratulations, we've just written our first algorithm! \n",
    "An algorithm is simply a list of statements which can be converted into code and executed by a computer\n",
    "on different sets of inputs. This particular algorithm is called linear search, since it involves searching\n",
    "through a list in a linear fashion."
   ]
  },
  {
   "cell_type": "markdown",
   "metadata": {},
   "source": [
    "**4. Implement the solution and test it using example inputs. Fix bugs if any**"
   ]
  },
  {
   "cell_type": "code",
   "execution_count": 48,
   "metadata": {},
   "outputs": [],
   "source": [
    "def locate_card(cards,query):\n",
    "    # Create a variable position with initial value 0\n",
    "    position = 0\n",
    "    # Iterate over the list of cards\n",
    "    if cards == []:\n",
    "        # If the current card equals the query, return position\n",
    "        return -1\n",
    "    else:\n",
    "        for i in cards:\n",
    "            if i == query:\n",
    "                # If the current card equals the query,\n",
    "                return position\n",
    "            else:\n",
    "                # Otherwise, increment position by 1\n",
    "                position += 1\n",
    "        # If we've reached here, we didn't find the query\n",
    "        return -1"
   ]
  },
  {
   "cell_type": "code",
   "execution_count": 53,
   "metadata": {},
   "outputs": [
    {
     "name": "stdout",
     "output_type": "stream",
     "text": [
      "True\n",
      "True\n",
      "True\n",
      "True\n",
      "True\n",
      "True\n",
      "True\n",
      "True\n"
     ]
    }
   ],
   "source": [
    "print(locate_card(**tests[0]['input']) == tests[0]['output'])\n",
    "print(locate_card(**tests[1]['input']) == tests[1]['output'])\n",
    "print(locate_card(**tests[2]['input']) == tests[2]['output'])\n",
    "print(locate_card(**tests[3]['input']) == tests[3]['output'])\n",
    "print(locate_card(**tests[4]['input']) == tests[4]['output'])\n",
    "print(locate_card(**tests[5]['input']) == tests[5]['output'])\n",
    "print(locate_card(**tests[6]['input']) == tests[6]['output'])\n",
    "print(locate_card(**tests[7]['input']) == tests[7]['output'])"
   ]
  },
  {
   "cell_type": "markdown",
   "metadata": {},
   "source": [
    "To help us test out functions easily the ```jovian``` Python library provides a helper function ```evaluate_test_case```. Apart from checking whether the function produces the expected result, it also displays the input, expected output, actual output from the function, and the execution time of the function   "
   ]
  },
  {
   "cell_type": "code",
   "execution_count": 50,
   "metadata": {},
   "outputs": [
    {
     "name": "stdout",
     "output_type": "stream",
     "text": [
      "\u001b[33mWARNING: You are using pip version 22.0.4; however, version 23.3 is available.\n",
      "You should consider upgrading via the '/Users/rohanamin/.pyenv/versions/3.10.4/bin/python3.10 -m pip install --upgrade pip' command.\u001b[0m\u001b[33m\n",
      "\u001b[0m"
     ]
    }
   ],
   "source": [
    "!pip install jovian --upgrade --quiet"
   ]
  },
  {
   "cell_type": "code",
   "execution_count": 51,
   "metadata": {},
   "outputs": [
    {
     "data": {
      "application/javascript": "if (window.IPython && IPython.notebook.kernel) IPython.notebook.kernel.execute('jovian.utils.jupyter.get_notebook_name_saved = lambda: \"' + IPython.notebook.notebook_name + '\"')",
      "text/plain": [
       "<IPython.core.display.Javascript object>"
      ]
     },
     "metadata": {},
     "output_type": "display_data"
    }
   ],
   "source": [
    "from jovian.pythondsa import evaluate_test_cases"
   ]
  },
  {
   "cell_type": "code",
   "execution_count": 54,
   "metadata": {},
   "outputs": [
    {
     "name": "stdout",
     "output_type": "stream",
     "text": [
      "\n",
      "\u001b[1mTEST CASE #0\u001b[0m\n",
      "\n",
      "Input:\n",
      "{'cards': [13, 11, 10, 7, 4, 3, 1, 0], 'query': 7}\n",
      "\n",
      "Expected Output:\n",
      "3\n",
      "\n",
      "\n",
      "Actual Output:\n",
      "3\n",
      "\n",
      "Execution Time:\n",
      "0.004 ms\n",
      "\n",
      "Test Result:\n",
      "\u001b[92mPASSED\u001b[0m\n",
      "\n",
      "\n",
      "\u001b[1mTEST CASE #1\u001b[0m\n",
      "\n",
      "Input:\n",
      "{'cards': [4, 2, 1, -1], 'query': 4}\n",
      "\n",
      "Expected Output:\n",
      "0\n",
      "\n",
      "\n",
      "Actual Output:\n",
      "0\n",
      "\n",
      "Execution Time:\n",
      "0.004 ms\n",
      "\n",
      "Test Result:\n",
      "\u001b[92mPASSED\u001b[0m\n",
      "\n",
      "\n",
      "\u001b[1mTEST CASE #2\u001b[0m\n",
      "\n",
      "Input:\n",
      "{'cards': [3, -1, -9, -127], 'query': -127}\n",
      "\n",
      "Expected Output:\n",
      "3\n",
      "\n",
      "\n",
      "Actual Output:\n",
      "3\n",
      "\n",
      "Execution Time:\n",
      "0.003 ms\n",
      "\n",
      "Test Result:\n",
      "\u001b[92mPASSED\u001b[0m\n",
      "\n",
      "\n",
      "\u001b[1mTEST CASE #3\u001b[0m\n",
      "\n",
      "Input:\n",
      "{'cards': [6], 'query': 6}\n",
      "\n",
      "Expected Output:\n",
      "0\n",
      "\n",
      "\n",
      "Actual Output:\n",
      "0\n",
      "\n",
      "Execution Time:\n",
      "0.002 ms\n",
      "\n",
      "Test Result:\n",
      "\u001b[92mPASSED\u001b[0m\n",
      "\n",
      "\n",
      "\u001b[1mTEST CASE #4\u001b[0m\n",
      "\n",
      "Input:\n",
      "{'cards': [9, 7, 5, 2, -9], 'query': 4}\n",
      "\n",
      "Expected Output:\n",
      "-1\n",
      "\n",
      "\n",
      "Actual Output:\n",
      "-1\n",
      "\n",
      "Execution Time:\n",
      "0.003 ms\n",
      "\n",
      "Test Result:\n",
      "\u001b[92mPASSED\u001b[0m\n",
      "\n",
      "\n",
      "\u001b[1mTEST CASE #5\u001b[0m\n",
      "\n",
      "Input:\n",
      "{'cards': [], 'query': 4}\n",
      "\n",
      "Expected Output:\n",
      "-1\n",
      "\n",
      "\n",
      "Actual Output:\n",
      "-1\n",
      "\n",
      "Execution Time:\n",
      "0.002 ms\n",
      "\n",
      "Test Result:\n",
      "\u001b[92mPASSED\u001b[0m\n",
      "\n",
      "\n",
      "\u001b[1mTEST CASE #6\u001b[0m\n",
      "\n",
      "Input:\n",
      "{'cards': [8, 8, 6, 6, 6, 6, 3, 2, 2, 2, 2, 0, 0], 'query': 3}\n",
      "\n",
      "Expected Output:\n",
      "6\n",
      "\n",
      "\n",
      "Actual Output:\n",
      "6\n",
      "\n",
      "Execution Time:\n",
      "0.002 ms\n",
      "\n",
      "Test Result:\n",
      "\u001b[92mPASSED\u001b[0m\n",
      "\n",
      "\n",
      "\u001b[1mTEST CASE #7\u001b[0m\n",
      "\n",
      "Input:\n",
      "{'cards': [8, 8, 6, 6, 6, 6, 3, 2, 2, 2, 2, 0, 0], 'query': 6}\n",
      "\n",
      "Expected Output:\n",
      "2\n",
      "\n",
      "\n",
      "Actual Output:\n",
      "2\n",
      "\n",
      "Execution Time:\n",
      "0.002 ms\n",
      "\n",
      "Test Result:\n",
      "\u001b[92mPASSED\u001b[0m\n",
      "\n",
      "\n",
      "\u001b[1mSUMMARY\u001b[0m\n",
      "\n",
      "TOTAL: 8, \u001b[92mPASSED\u001b[0m: 8, \u001b[91mFAILED\u001b[0m: 0\n"
     ]
    },
    {
     "data": {
      "text/plain": [
       "[(3, True, 0.004),\n",
       " (0, True, 0.004),\n",
       " (3, True, 0.003),\n",
       " (0, True, 0.002),\n",
       " (-1, True, 0.003),\n",
       " (-1, True, 0.002),\n",
       " (6, True, 0.002),\n",
       " (2, True, 0.002)]"
      ]
     },
     "execution_count": 54,
     "metadata": {},
     "output_type": "execute_result"
    }
   ],
   "source": [
    "evaluate_test_cases(locate_card, tests)"
   ]
  },
  {
   "cell_type": "markdown",
   "metadata": {},
   "source": [
    "**5. Analyze the algorithm's complexity and identiy inefficiencies, if any.**\n",
    "Since we access the list element once in every iterations, for a list of size ```N``` we access the elements from the list up to ```N``` times. Thus, we may need to overturn up to ```N``` cards in the worst case, to find the required card. \n",
    "\n",
    "Suppose we are allowed to overturn 1 card per minute, it may take 30 minutes to find the required card if the list contains 30 cards. \n",
    "\n",
    "The field of study concerned with finding the amount of time, space or other resources required to complete the execution of computer programs is called the *analysis of algorithm*. And the process of figuring out the best algorithm to solve a given problem is called *algorithm design and optimization.*\n",
    "\n",
    "\n",
    "**Complexity & Big O Notations**\n",
    "\n",
    "Complexity of an algorithm is a measure of the amount of time and/or space required by an algorithm for an input\n",
    "of a given size e.g. ```N```. Unless otherwise stated, the term *Complexity* always refer to the worst case.\n",
    "\n",
    "In the case of Linear Search:\n",
    "\n",
    "1. The *Time Complexity* of the algorithm is ```cN``` for some fixed constant ```c``` that depends on the number of operations we perform in each iteration and the time taken to execute a statement. Time complexity is sometimes also called the *running time* of the algorithm.\n",
    "2. The *Space Complexity* is some constant ```c'``` (independent of ```N```), since we just need a single variable ```position``` to iterate through the array, and it occupies a constant space in the computer's memory(RAM).\n",
    "\n",
    "    **Big O Notation:** Worst-case complexity is often expressed using the Big O Notation. In the Big O, we drop fixed constants and lower powers of variables to capture the trend of relationship between the size of the input and the complexity of the algorithm i.e. If the complexity of the algorithm is ```cN^3 + dN^2 + eN + f```, in the Big O notation it is expressed as **```O(N^3)```**\n",
    "\n",
    "Therefore in our example, the time complexity of Linear Search algorithm is **```O(N)```** as we dropped the constant ```c``` and the space complexity is **```O(1)```** as we dropped the constant ```c'```.\n"
   ]
  },
  {
   "cell_type": "markdown",
   "metadata": {},
   "source": []
  },
  {
   "cell_type": "code",
   "execution_count": null,
   "metadata": {},
   "outputs": [],
   "source": []
  }
 ],
 "metadata": {
  "kernelspec": {
   "display_name": "Python 3",
   "language": "python",
   "name": "python3"
  },
  "language_info": {
   "codemirror_mode": {
    "name": "ipython",
    "version": 3
   },
   "file_extension": ".py",
   "mimetype": "text/x-python",
   "name": "python",
   "nbconvert_exporter": "python",
   "pygments_lexer": "ipython3",
   "version": "3.10.4"
  },
  "orig_nbformat": 4
 },
 "nbformat": 4,
 "nbformat_minor": 2
}
