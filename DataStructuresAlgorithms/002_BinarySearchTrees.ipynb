{
 "cells": [
  {
   "cell_type": "markdown",
   "metadata": {},
   "source": [
    "<font size=\"5\">**</h1>LESSON 2. Binary Search Trees, Traversals and Balancing in Python</h1>**</font>"
   ]
  },
  {
   "cell_type": "markdown",
   "metadata": {},
   "source": [
    "<font size=\"3\">**QUESTION 1:**</font>\n",
    "\n",
    "As a senior backend engineer at a Company, you are tasked with developing a fast in-memory data structure to manage profile information (username, name and email) for 100 million users. It should allow the following operations to be performed efficiently:\n",
    "\n",
    "1. **Insert** the profile information for a new user.\n",
    "2. **Find** the profile information of a user, given their username.\n",
    "3. **Update** the profile information of a user, given their username.\n",
    "4. **List** all the users of the platform, sorted by username.\n",
    "\n",
    "We can assume that usernames are unique."
   ]
  },
  {
   "cell_type": "markdown",
   "metadata": {},
   "source": [
    "<font size=\"4\">**1. State the Problem clearly, Identify the Inputs & Output formats:**</font>\n",
    "\n",
    "**Problem:**\n",
    "\n",
    "We need to create some kind of Data Structures that can hold 100 millions records and be able to perform Insert, Update, Find/Search and List operations.\n",
    "\n",
    "**Inputs:**\n",
    "\n",
    "1. A User information (username, name and email)\n",
    "\n",
    "A Python *class* would be a great way to represent the information for a user. A class is a blueprint for creating *objects*. Everything in python is an object belonging to some class. Here's a simplest possible class in python, with nothin in it."
   ]
  },
  {
   "cell_type": "code",
   "execution_count": 4,
   "metadata": {},
   "outputs": [],
   "source": [
    "class User:\n",
    "    pass"
   ]
  },
  {
   "cell_type": "markdown",
   "metadata": {},
   "source": []
  },
  {
   "cell_type": "markdown",
   "metadata": {},
   "source": [
    "**Outputs:**\n",
    "\n",
    "1. For Insert operations output should be success.\n",
    "2. For Update operations output should be success.\n",
    "3. For Find/Search operations output should be the value of the User information.\n",
    "4. For List operations output should be sorted list of User information sorted by username."
   ]
  },
  {
   "cell_type": "markdown",
   "metadata": {},
   "source": []
  }
 ],
 "metadata": {
  "kernelspec": {
   "display_name": "Python 3",
   "language": "python",
   "name": "python3"
  },
  "language_info": {
   "codemirror_mode": {
    "name": "ipython",
    "version": 3
   },
   "file_extension": ".py",
   "mimetype": "text/x-python",
   "name": "python",
   "nbconvert_exporter": "python",
   "pygments_lexer": "ipython3",
   "version": "3.10.4"
  },
  "orig_nbformat": 4
 },
 "nbformat": 4,
 "nbformat_minor": 2
}
