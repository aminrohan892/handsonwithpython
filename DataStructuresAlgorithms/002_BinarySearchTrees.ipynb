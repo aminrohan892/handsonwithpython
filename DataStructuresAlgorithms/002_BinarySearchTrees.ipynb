{
 "cells": [
  {
   "cell_type": "markdown",
   "metadata": {},
   "source": [
    "<font size=\"5\">**</h1>LESSON 2. Binary Search Trees, Traversals and Balancing in Python</h1>**</font>"
   ]
  },
  {
   "cell_type": "markdown",
   "metadata": {},
   "source": [
    "<font size=\"3\">**QUESTION 1:**</font>\n",
    "\n",
    "As a senior backend engineer at a Company, you are tasked with developing a fast in-memory data structure to manage profile information (username, name and email) for 100 million users. It should allow the following operations to be performed efficiently:\n",
    "\n",
    "1. **Insert** the profile information for a new user.\n",
    "2. **Find** the profile information of a user, given their username.\n",
    "3. **Update** the profile information of a user, given their username.\n",
    "4. **List** all the users of the platform, sorted by username.\n",
    "\n",
    "We can assume that usernames are unique."
   ]
  },
  {
   "cell_type": "markdown",
   "metadata": {},
   "source": [
    "<font size=\"4\">**1. State the Problem clearly, Identify the Inputs & Output formats:**</font>\n",
    "\n",
    "**Problem:**\n",
    "\n",
    "We need to create some kind of Data Structures that can hold 100 millions records and be able to perform Insert, Update, Find/Search and List operations.\n",
    "\n",
    "**Inputs:**\n",
    "\n",
    "1. A User information (username, name and email)\n",
    "\n",
    "A Python *class* would be a great way to represent the information for a user. A class is a blueprint for creating *objects*. Everything in python is an object belonging to some class. Here's a simplest possible class in python, with nothin in it."
   ]
  },
  {
   "cell_type": "code",
   "execution_count": 6,
   "metadata": {},
   "outputs": [],
   "source": [
    "class User:\n",
    "    pass"
   ]
  },
  {
   "cell_type": "code",
   "execution_count": 8,
   "metadata": {},
   "outputs": [
    {
     "data": {
      "text/plain": [
       "<__main__.User at 0x10aa7b460>"
      ]
     },
     "execution_count": 8,
     "metadata": {},
     "output_type": "execute_result"
    }
   ],
   "source": [
    "# We can create or initiate an object of the class by calling the class name as if it were a function\n",
    "user1 = User()\n",
    "user1"
   ]
  },
  {
   "cell_type": "code",
   "execution_count": 10,
   "metadata": {},
   "outputs": [
    {
     "data": {
      "text/plain": [
       "__main__.User"
      ]
     },
     "execution_count": 10,
     "metadata": {},
     "output_type": "execute_result"
    }
   ],
   "source": [
    "type(user1)"
   ]
  },
  {
   "cell_type": "markdown",
   "metadata": {},
   "source": [
    "The object ```user1``` does not contain any useful information. Let's add a ```constructor method``` to the class to store some *attributes* or *properties*"
   ]
  },
  {
   "cell_type": "code",
   "execution_count": 21,
   "metadata": {},
   "outputs": [],
   "source": [
    "class User:\n",
    "    def __init__(self, username, name, email) -> None:\n",
    "        self.username = username\n",
    "        self.name = name\n",
    "        self.email = email \n",
    "        print('User created!')"
   ]
  },
  {
   "cell_type": "markdown",
   "metadata": {},
   "source": [
    "We can now create an object with some properties."
   ]
  },
  {
   "cell_type": "code",
   "execution_count": 22,
   "metadata": {},
   "outputs": [
    {
     "name": "stdout",
     "output_type": "stream",
     "text": [
      "User created!\n"
     ]
    },
    {
     "data": {
      "text/plain": [
       "<__main__.User at 0x10adbb340>"
      ]
     },
     "execution_count": 22,
     "metadata": {},
     "output_type": "execute_result"
    }
   ],
   "source": [
    "user2 = User('john', 'John Doe', 'john@doe.com')\n",
    "user2"
   ]
  },
  {
   "cell_type": "code",
   "execution_count": 23,
   "metadata": {},
   "outputs": [
    {
     "name": "stdout",
     "output_type": "stream",
     "text": [
      "john\n",
      "John Doe\n",
      "john@doe.com\n"
     ]
    }
   ],
   "source": [
    "print(user2.username)\n",
    "print(user2.name)\n",
    "print(user2.email)"
   ]
  },
  {
   "cell_type": "markdown",
   "metadata": {},
   "source": [
    "Here's what is happening above (conceptually)\n",
    "1. When we invoke the ```User``` class, Python creates an empty object and stores it under ```user2``` variable.\n",
    "2. Then, Python invokes the ```__init__``` function and passes the object ```user2``` as a self and other arguments that are passed to the class.\n",
    "3. It is basically calling ```User.__init__``` function and then setting the values to the username, name and email parameters inside the ```__init__``` function.\n",
    "4. We can access the parameters that are set under the ```__init__``` function directly using the object like ```user2.username``` or ```user2.name``` or ```user2.email```"
   ]
  },
  {
   "cell_type": "code",
   "execution_count": 13,
   "metadata": {},
   "outputs": [
    {
     "name": "stdout",
     "output_type": "stream",
     "text": [
      "User created!\n"
     ]
    }
   ],
   "source": [
    "user2.__init__('john', 'John Doe', 'john@doe.com')    "
   ]
  },
  {
   "cell_type": "markdown",
   "metadata": {},
   "source": [
    "We can also define *Custom Method* inside a *class*."
   ]
  },
  {
   "cell_type": "code",
   "execution_count": 28,
   "metadata": {},
   "outputs": [],
   "source": [
    "class User:\n",
    "    def __init__(self, username, name, email):\n",
    "        self.username = username\n",
    "        self.name = name\n",
    "        self.email = email \n",
    "    \n",
    "    def introduce_yourself(self, guest_name):\n",
    "        print(f'Hi {guest_name}, I am {self.name} my username is {self.username} and my email is {self.email}!')"
   ]
  },
  {
   "cell_type": "code",
   "execution_count": 29,
   "metadata": {},
   "outputs": [],
   "source": [
    "user3 = User('jane', 'Jane Doe', 'jane@doe.com')"
   ]
  },
  {
   "cell_type": "code",
   "execution_count": 30,
   "metadata": {},
   "outputs": [
    {
     "name": "stdout",
     "output_type": "stream",
     "text": [
      "Hi John, I am Jane Doe my username is jane and my email is jane@doe.com!\n"
     ]
    }
   ],
   "source": [
    "user3.introduce_yourself('John')"
   ]
  },
  {
   "cell_type": "markdown",
   "metadata": {},
   "source": [
    "When we try to invoke the method ```user3.introduce_yourself```, the object ```user3``` is automatically passed as the first argument ```self```. Therefore the above statement is equivalent to the following:"
   ]
  },
  {
   "cell_type": "code",
   "execution_count": 27,
   "metadata": {},
   "outputs": [
    {
     "name": "stdout",
     "output_type": "stream",
     "text": [
      "Hi John, I am Jane Doe!\n"
     ]
    }
   ],
   "source": [
    "User.introduce_yourself(user3, 'John')"
   ]
  },
  {
   "cell_type": "markdown",
   "metadata": {},
   "source": [
    "Finally, we'll define a couple of helper methods to display user objects nicely within Jupter"
   ]
  },
  {
   "cell_type": "code",
   "execution_count": 33,
   "metadata": {},
   "outputs": [],
   "source": [
    "class User:\n",
    "    # Constructor\n",
    "    def __init__(self, username, name, email):\n",
    "        self.username = username\n",
    "        self.name = name\n",
    "        self.email = email \n",
    "    \n",
    "    # Methods\n",
    "    def __repr__(self) -> str:\n",
    "        \"\"\"\n",
    "        Returns a string representation of the User object.\n",
    "        \"\"\"\n",
    "        return \"User(username='{}', name='{}', email='{}')\".format(self.username, self.name, self.email)\n",
    "    \n",
    "    def __str__(self) -> str:\n",
    "        return self.__repr__()"
   ]
  },
  {
   "cell_type": "code",
   "execution_count": 32,
   "metadata": {},
   "outputs": [
    {
     "data": {
      "text/plain": [
       "User(username='jane', name='Jane Doe', email='jane@doe.com')"
      ]
     },
     "execution_count": 32,
     "metadata": {},
     "output_type": "execute_result"
    }
   ],
   "source": [
    "user4 = User('jane', 'Jane Doe', 'jane@doe.com')\n",
    "user4"
   ]
  },
  {
   "cell_type": "markdown",
   "metadata": {},
   "source": [
    "**Outputs:**\n",
    "\n",
    "1. For Insert operations output should be success.\n",
    "2. For Update operations output should be success.\n",
    "3. For Find/Search operations output should be the value of the User information.\n",
    "4. For List operations output should be sorted list of User information sorted by username.\n",
    "\n",
    "We can also define our desired data structure as a Python class ```UserDatabase``` with four methods: ```insert```, ```find```, ```update``` and ```list_all```. It is a good programming practice to list of the signatures of different class functions before we actually implement the class."
   ]
  },
  {
   "cell_type": "code",
   "execution_count": 34,
   "metadata": {},
   "outputs": [],
   "source": [
    "class UserDatabase:\n",
    "    def insert(self, user):\n",
    "        pass\n",
    "\n",
    "    def find(self, username):\n",
    "        pass\n",
    "\n",
    "    def update(self, user):\n",
    "        pass    \n",
    "\n",
    "    def list_all(self):\n",
    "        pass"
   ]
  },
  {
   "cell_type": "markdown",
   "metadata": {},
   "source": [
    "<font size=4>2. Come up with some example inputs and outputs.</font>\n",
    "\n",
    "Let's create some sample user profiles that we can use to test our functions once we implement them."
   ]
  },
  {
   "cell_type": "code",
   "execution_count": 35,
   "metadata": {},
   "outputs": [],
   "source": [
    "aakash = User('aakash', 'Aakash Rai', 'aakash@example.com')\n",
    "biraj = User('biraj', 'Biraj Das', 'biraj@example.com')\n",
    "hemanth = User('hemanth', 'Hemanth Jain', 'hemanth@example.com')\n",
    "jadhesh = User('jadhesh', 'Jadhesh Verma', 'jadhesh@example.com')\n",
    "siddhant = User('siddhant', 'Siddhant Sinha', 'siddhant@example.com')\n",
    "sonaksh = User('sonaksh', 'Sonaksh Kumar', 'sonaksh@example.com')\n",
    "vishal = User('vishal', 'Vishal Goel', 'vishal@example.com')"
   ]
  },
  {
   "cell_type": "code",
   "execution_count": 36,
   "metadata": {},
   "outputs": [],
   "source": [
    "users = [aakash, biraj, hemanth, jadhesh, siddhant, sonaksh, vishal]"
   ]
  },
  {
   "cell_type": "code",
   "execution_count": 37,
   "metadata": {},
   "outputs": [
    {
     "data": {
      "text/plain": [
       "[User(username='aakash', name='Aakash Rai', email='aakash@example.com'),\n",
       " User(username='biraj', name='Biraj Das', email='biraj@example.com'),\n",
       " User(username='hemanth', name='Hemanth Jain', email='hemanth@example.com'),\n",
       " User(username='jadhesh', name='Jadhesh Verma', email='jadhesh@example.com'),\n",
       " User(username='siddhant', name='Siddhant Sinha', email='siddhant@example.com'),\n",
       " User(username='sonaksh', name='Sonaksh Kumar', email='sonaksh@example.com'),\n",
       " User(username='vishal', name='Vishal Goel', email='vishal@example.com')]"
      ]
     },
     "execution_count": 37,
     "metadata": {},
     "output_type": "execute_result"
    }
   ],
   "source": [
    "users"
   ]
  },
  {
   "cell_type": "code",
   "execution_count": 39,
   "metadata": {},
   "outputs": [
    {
     "data": {
      "text/plain": [
       "User(username='aakash', name='Aakash Rai', email='aakash@example.com')"
      ]
     },
     "execution_count": 39,
     "metadata": {},
     "output_type": "execute_result"
    }
   ],
   "source": [
    "aakash"
   ]
  },
  {
   "cell_type": "code",
   "execution_count": 40,
   "metadata": {},
   "outputs": [
    {
     "data": {
      "text/plain": [
       "True"
      ]
     },
     "execution_count": 40,
     "metadata": {},
     "output_type": "execute_result"
    }
   ],
   "source": []
  },
  {
   "cell_type": "markdown",
   "metadata": {},
   "source": [
    "<font size=\"4\">3. Come up with a correct solution. State it in plain english</font>\n",
    "\n",
    "Here's a simple and easy solution to the problem. We store the ```User``` object in a list sorted by ```username```.\n",
    "\n",
    "The various functions can be implemented as follows:\n",
    "1. **Insert:** Loop through the list to add the ```User``` at the position that keeps the list sorted.\n",
    "2. **Find:** Loop through the list and find the ```User``` based on their ```username```.\n",
    "3. **Update:** Loop through the list and find the ```User``` matching the ```query``` and update the details.\n",
    "4. **List:** Return the list of ```User``` object."
   ]
  },
  {
   "cell_type": "markdown",
   "metadata": {},
   "source": [
    "<font size=\"4\">4. Implement the solution and test it using example inputs</font>"
   ]
  },
  {
   "cell_type": "code",
   "execution_count": 72,
   "metadata": {},
   "outputs": [],
   "source": [
    "class UserDatabase:\n",
    "    # Constructor\n",
    "    def __init__(self):\n",
    "        self.users = []\n",
    "\n",
    "    # Methods        \n",
    "    def insert(self, user):\n",
    "        i = 0\n",
    "        while i < len(self.users):\n",
    "            # Find the first username greater than the new user's username\n",
    "            if self.users[i].username > user.username:\n",
    "                break\n",
    "            i += 1\n",
    "        self.users.insert(i,user)\n",
    "\n",
    "    def find(self, username):\n",
    "        for user in self.users:\n",
    "            if user.username == username:\n",
    "                return user\n",
    "\n",
    "    def update(self, user):\n",
    "        target = self.find(user.username)\n",
    "        target.name, target.email = user.name, user.email\n",
    "                \n",
    "    def list_all(self):\n",
    "        print(self.users)"
   ]
  },
  {
   "cell_type": "code",
   "execution_count": 82,
   "metadata": {},
   "outputs": [],
   "source": [
    "rohan = User('rohan', 'Rohan Amin', 'rohan@welcome.com')"
   ]
  },
  {
   "cell_type": "code",
   "execution_count": 88,
   "metadata": {},
   "outputs": [],
   "source": [
    "database = UserDatabase()"
   ]
  },
  {
   "cell_type": "code",
   "execution_count": 83,
   "metadata": {},
   "outputs": [],
   "source": [
    "database.insert(rohan)\n",
    "database.insert(aakash)\n",
    "database.insert(biraj)"
   ]
  },
  {
   "cell_type": "code",
   "execution_count": 89,
   "metadata": {},
   "outputs": [
    {
     "name": "stdout",
     "output_type": "stream",
     "text": [
      "[]\n"
     ]
    }
   ],
   "source": [
    "database.list_all()"
   ]
  },
  {
   "cell_type": "code",
   "execution_count": 77,
   "metadata": {},
   "outputs": [
    {
     "data": {
      "text/plain": [
       "User(username='aakash', name='Aakash Rai', email='aakash@example.com')"
      ]
     },
     "execution_count": 77,
     "metadata": {},
     "output_type": "execute_result"
    }
   ],
   "source": [
    "database.find('aakash')"
   ]
  },
  {
   "cell_type": "code",
   "execution_count": 85,
   "metadata": {},
   "outputs": [],
   "source": [
    "database.update(User('rohan', 'Rohan Amin', 'ramin@welcome.com'))"
   ]
  },
  {
   "cell_type": "code",
   "execution_count": 86,
   "metadata": {},
   "outputs": [
    {
     "data": {
      "text/plain": [
       "User(username='rohan', name='Rohan Amin', email='ramin@welcome.com')"
      ]
     },
     "execution_count": 86,
     "metadata": {},
     "output_type": "execute_result"
    }
   ],
   "source": [
    "database.find('rohan')"
   ]
  },
  {
   "cell_type": "code",
   "execution_count": 87,
   "metadata": {},
   "outputs": [
    {
     "name": "stdout",
     "output_type": "stream",
     "text": [
      "[User(username='aakash', name='Aakash Rai', email='aakash@example.com'), User(username='aakash', name='Aakash Rai', email='aakash@example.com'), User(username='aakash', name='Aakash Rai', email='aakash@example.com'), User(username='biraj', name='Biraj Das', email='biraj@example.com'), User(username='biraj', name='Biraj Das', email='biraj@example.com'), User(username='biraj', name='Biraj Das', email='biraj@example.com'), User(username='rohan', name='Rohan Amin', email='ramin@welcome.com'), User(username='rohan', name='Rohan Amin', email='ramin@welcome.com'), User(username='rohan', name='Rohan Amin', email='rohan@welcome.com')]\n"
     ]
    }
   ],
   "source": [
    "database.list_all()"
   ]
  },
  {
   "cell_type": "code",
   "execution_count": null,
   "metadata": {},
   "outputs": [],
   "source": []
  }
 ],
 "metadata": {
  "kernelspec": {
   "display_name": "Python 3",
   "language": "python",
   "name": "python3"
  },
  "language_info": {
   "codemirror_mode": {
    "name": "ipython",
    "version": 3
   },
   "file_extension": ".py",
   "mimetype": "text/x-python",
   "name": "python",
   "nbconvert_exporter": "python",
   "pygments_lexer": "ipython3",
   "version": "3.10.4"
  },
  "orig_nbformat": 4
 },
 "nbformat": 4,
 "nbformat_minor": 2
}
