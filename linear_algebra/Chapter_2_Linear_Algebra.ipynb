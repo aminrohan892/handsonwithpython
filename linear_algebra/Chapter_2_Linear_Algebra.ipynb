{
  "nbformat": 4,
  "nbformat_minor": 0,
  "metadata": {
    "colab": {
      "name": "Chapter_2_Linear_Algebra.ipynb",
      "provenance": [],
      "collapsed_sections": [
        "D8GCYatniQ-f",
        "PXDME2s7ig_S",
        "kp0oFPJBkCHX"
      ],
      "toc_visible": true,
      "authorship_tag": "ABX9TyNsdz1smN3lPoIGdxT+YOuI",
      "include_colab_link": true
    },
    "kernelspec": {
      "name": "python3",
      "display_name": "Python 3"
    },
    "language_info": {
      "name": "python"
    }
  },
  "cells": [
    {
      "cell_type": "markdown",
      "metadata": {
        "id": "view-in-github",
        "colab_type": "text"
      },
      "source": [
        "<a href=\"https://colab.research.google.com/github/aminrohan892/handsonwithpython/blob/master/linear_algebra/Chapter_2_Linear_Algebra.ipynb\" target=\"_parent\"><img src=\"https://colab.research.google.com/assets/colab-badge.svg\" alt=\"Open In Colab\"/></a>"
      ]
    },
    {
      "cell_type": "markdown",
      "source": [
        "# Chapter 2 - Linear Algebra:\n",
        "\n",
        "## The following notebook is based on the \\*Mathematics For Machine Learning\\* textbook written by:\n",
        "*   Marc Peter Deisenroth\n",
        "*   A. Aldo Faisal\n",
        "*   Cheng Soon Ong\n",
        "\n",
        "## What does this notebook contain?"
      ],
      "metadata": {
        "id": "ySBD2HgXiDLu"
      }
    },
    {
      "cell_type": "markdown",
      "source": [
        "# What is a Linear Algebra?\n",
        "*   Linear Algebra is the study of Vectors and certain rules to manipulate Vectors.\n",
        "\n",
        "\n",
        "# What is a Vector?\n",
        "*   Vector is an object that can be added together and multiplied by scalars to produce another object of the same kind.\n",
        "*   Any object satisfying this condition is considered a Vector.\n",
        "*   Eg:-\n",
        "    * Geometric vectors\n",
        "    * Polynomials\n",
        "    * Audio Signals\n",
        "    * Elements of $R^n$ (tuples of *n* real numbers)\n",
        "\n",
        "# One major concept in Mathematics is the idea of *Closure*:\n",
        "* This is basically asking a question: - *What is the set of all things that can result from our proposed solution?*\n",
        "* In the case of Vectors: - *What is the set of Vectors that can result by starting with a small set of vectors, and adding them to each other and scaling them?*\n",
        "    *   This results in: - **Vector Space**"
      ],
      "metadata": {
        "id": "8d1R3VMAiFOK"
      }
    },
    {
      "cell_type": "markdown",
      "source": [
        "# 2.1 Systems of Linear Equation:\n",
        "\n",
        "## Geometric Interpretation of Systems of Linear Equations\n",
        "* Let us consider a system of linear equations with two variables $x_1$, $x_2$.\n",
        "* Each linear equation defines a line on the $x_1$,$x_2$-plane.\n",
        "* The **solution** to a system of linear equations must satisfy all equations simultaneously. However, the **solution set** is the intersection of these lines.\n",
        "* The intersection set can be:\n",
        "    * line (when the lines overlap)\n",
        "    * a point (only one point of intersection)\n",
        "    * or empty (when lines are parallel)\n",
        "* A systematic approach for solving **systems of linear equations** that contains higher number of variables is to collect all the variables, coefficient & outputs into **Vectors** and then represent them in **Matrices**."
      ],
      "metadata": {
        "id": "msgOo_4EiIh0"
      }
    },
    {
      "cell_type": "markdown",
      "source": [
        "# 2.2 Matrices:\n"
      ],
      "metadata": {
        "id": "uDr6whdqiLeQ"
      }
    },
    {
      "cell_type": "code",
      "source": [
        "# Simple Representation of 2x3 Matrix using Arrays:\n",
        "import numpy as np\n",
        "\n",
        "A = np.array([[1,2,3],\n",
        "             [4,5,6]])\n",
        "print(A)\n"
      ],
      "metadata": {
        "id": "g61swISYiQN9"
      },
      "execution_count": null,
      "outputs": []
    },
    {
      "cell_type": "markdown",
      "source": [
        "## 2.2.1 Matrix Addition & Multiplication\n"
      ],
      "metadata": {
        "id": "D8GCYatniQ-f"
      }
    },
    {
      "cell_type": "markdown",
      "source": [
        "### Addition of two Matrices is defined as the element wise sum:"
      ],
      "metadata": {
        "id": "pL1SjXZyjVOm"
      }
    },
    {
      "cell_type": "code",
      "source": [
        "# Define two Matrix A & B and then perform addition:\n",
        "import numpy as np\n",
        "\n",
        "A = np.array([[10,20],[11,22]])\n",
        "B = np.array([[30,40],[33,44]])\n",
        "C = A + B\n",
        "print(f\"Matrix A is: {A}\")\n",
        "print(f\"Matrix B is: {B}\")\n",
        "print(f\"Sum of Matrix A & B is: {C}\")"
      ],
      "metadata": {
        "id": "aNtE6yi1iWjf"
      },
      "execution_count": null,
      "outputs": []
    },
    {
      "cell_type": "markdown",
      "source": [
        "### Whereas in Multiplication of two Matrices:\n",
        "* The neighbouring dimensions should match.\n",
        "    * i.e If matrix A is m$\\times$n then it can only multiply with a matrix with dimension n$\\times$k\n",
        "* Then we multiply the element of the *m*th row of A with *k*th column of B and sum them up\n",
        "\n",
        "### Matrix Multiplication Properties:\n",
        "* It is **Not Commutative**, i.e AB $\\neq$ BA\n",
        "* It is **Associative**, i.e (AB)C = A(BC)\n",
        "* It is **Distributive**, i.e (A+B)C = AC + BC\n",
        "* Multiplication with **Identity** matrix, i.e $I_n$A = A$I_n$ = A\n",
        "    *   identity Matrix is the one in which all the elements are 0 except the diagonals which are 1."
      ],
      "metadata": {
        "id": "fGwG2gFuiZPn"
      }
    },
    {
      "cell_type": "code",
      "source": [
        "# Define two Matrix A & B and then perform multiplication:\n",
        "import numpy as np\n",
        "\n",
        "A = np.array([[1,2,3],[4,5,6]])\n",
        "B = np.array([[6,7],[8,9],[10,11]])\n",
        "C = A @ B # In Python if we want to Multiply two Array as Matrix Multiplication we should use @ instead of *\n",
        "print(f\"Matrix A is: \\n {A}\")\n",
        "print(f\"Matrix B is: \\n {B}\")\n",
        "print(f\"Mulitplication of AB is: \\n {C}\")\n",
        "\n",
        "# This operation will result in Hadamard Product in which the elementwise Multiplication is happening\n",
        "# But this code will give us an error as for Hadamard Product the dimensions of both the Matrices should be same.\n",
        "#D = A * B\n",
        "#print(f\"Hadamard Product :  \\n {D}\")\n",
        "\n",
        "# It is Not Commutative:\n",
        "E = B @ A\n",
        "print(f\"Mulitplication of BA is: \\n {E}\")\n",
        "\n",
        "# It is Associative:\n",
        "F = np.array([[3,5,8,2,1],[9,10,4,7,8]])\n",
        "print(f\"(AB)F is: \\n {(A @ B) @ F}\")\n",
        "print(f\"A(BF) is: \\n {A @ (B @ F)}\")"
      ],
      "metadata": {
        "colab": {
          "base_uri": "https://localhost:8080/"
        },
        "id": "_-f-RZ_Iiefs",
        "outputId": "8df3023b-1214-4dcc-b60e-de663b636386"
      },
      "execution_count": 3,
      "outputs": [
        {
          "output_type": "stream",
          "name": "stdout",
          "text": [
            "Matrix A is: \n",
            " [[1 2 3]\n",
            " [4 5 6]]\n",
            "Matrix B is: \n",
            " [[ 6  7]\n",
            " [ 8  9]\n",
            " [10 11]]\n",
            "Mulitplication of AB is: \n",
            " [[ 52  58]\n",
            " [124 139]]\n",
            "Mulitplication of BA is: \n",
            " [[34 47 60]\n",
            " [44 61 78]\n",
            " [54 75 96]]\n",
            "(AB)F is: \n",
            " [[ 678  840  648  510  516]\n",
            " [1623 2010 1548 1221 1236]]\n",
            "A(BF) is: \n",
            " [[ 678  840  648  510  516]\n",
            " [1623 2010 1548 1221 1236]]\n"
          ]
        }
      ]
    },
    {
      "cell_type": "markdown",
      "source": [
        "## 2.2.2 Inverse & Transpose:\n"
      ],
      "metadata": {
        "id": "PXDME2s7ig_S"
      }
    },
    {
      "cell_type": "markdown",
      "source": [
        "### Inverse:\n",
        "* Let us consider a square matrix A.\n",
        "* Then let us consider another matrix B, which has a property **AB = $I_n$ = BA**\n",
        "* Then we call the matrix B as the Inverse of A and is represented as **$A^{-1}$**\n",
        "* Not all matrix has an inverse.\n",
        "* If a matrix has an inverse, it will be Unique. That matrix will be called *regular/invertible/nonsigular*.\n",
        "* If a matrix doesn't posses an inverse, it is called *irregular/noninvertible/singular*.\n",
        "\n",
        "#### Inverse Properties:\n",
        "* A$A^{-1}$ = I = $A^{-1}$A\n",
        "* $(AB)^{-1}$ = $B^{-1}$$A^{-1}$\n",
        "* $(A+B)^{-1}$ = $A^{-1}$+$B^{-1}$"
      ],
      "metadata": {
        "id": "7zBZcnJaj0Ew"
      }
    },
    {
      "cell_type": "code",
      "source": [
        "import numpy as np\n",
        "from numpy.linalg import inv\n",
        "\n",
        "A = np.array([[1,2,1],[4,4,5],[6,7,7]])\n",
        "B = np.array([[-7,-7,6],[2,1,-1],[4,5,-4]])\n",
        "\n",
        "# Check if B is an Inverse of A\n",
        "print(f\"AB is: \\n {A@B}\")\n",
        "print(f\"BA is: \\n {B@A}\")\n",
        "\n",
        "# Now use the numpy Inverse method to identify the Inverse of A:\n",
        "print(f\"A inverse is : \\n {inv(A)}\")"
      ],
      "metadata": {
        "colab": {
          "base_uri": "https://localhost:8080/"
        },
        "id": "TQ1qlilbin7U",
        "outputId": "f20bf542-fc92-43cc-82c5-16781b773087"
      },
      "execution_count": 2,
      "outputs": [
        {
          "output_type": "stream",
          "name": "stdout",
          "text": [
            "AB is: \n",
            " [[1 0 0]\n",
            " [0 1 0]\n",
            " [0 0 1]]\n",
            "BA is: \n",
            " [[1 0 0]\n",
            " [0 1 0]\n",
            " [0 0 1]]\n",
            "A inverse is : \n",
            " [[-7. -7.  6.]\n",
            " [ 2.  1. -1.]\n",
            " [ 4.  5. -4.]]\n"
          ]
        }
      ]
    },
    {
      "cell_type": "markdown",
      "source": [
        "### Transpose:\n",
        "* Let us consider a matrix A and B such that **$b_{ij}$ = $a_{ji}$**\n",
        "* Then we call B as the Transpose of A.\n",
        "* In general, $A^T$ can be obtained by writing the columns of A as the rows of $A^T$.\n",
        "\n",
        "#### Transpose Properties:\n",
        "* $($$A^T$$)^T$ = A\n",
        "* $(AB)^T$ = $B^T$$A^T$\n",
        "* $(A+B)^T$ = $A^T$+$B^T$\n",
        "\n",
        "\n"
      ],
      "metadata": {
        "id": "kp0oFPJBkCHX"
      }
    },
    {
      "cell_type": "code",
      "source": [
        "import numpy as np\n",
        "\n",
        "A = np.array([[1,2],[3,4]])\n",
        "B = np.array([[5,6],[7,8]])\n",
        "A_transpose = np.transpose(A)\n",
        "B_transpose = np.transpose(B)\n",
        "\n",
        "# Check for one of the transpose properties:\n",
        "AB_transpose = np.transpose(A@B)\n",
        "B_transpose_A_transpose = B_transpose @ A_transpose\n",
        "\n",
        "print(f\"AB transpose is: \\n {AB_transpose}\")\n",
        "print(f\"B transpose multiplied with A transpose is: \\n {B_transpose_A_transpose}\")\n",
        "\n",
        "# Both the results are matching"
      ],
      "metadata": {
        "colab": {
          "base_uri": "https://localhost:8080/"
        },
        "id": "MuKrW38Sk1uz",
        "outputId": "3201e172-f6f4-4f7f-bf5e-4c0f11e58f27"
      },
      "execution_count": 6,
      "outputs": [
        {
          "output_type": "stream",
          "name": "stdout",
          "text": [
            "AB transpose is: \n",
            " [[19 43]\n",
            " [22 50]]\n",
            "B transpose multiplied with A transpose is: \n",
            " [[19 43]\n",
            " [22 50]]\n"
          ]
        }
      ]
    },
    {
      "cell_type": "markdown",
      "source": [
        "## 2.2.3 Multiplication by a Scalar:"
      ],
      "metadata": {
        "id": "lytFqJ2todp4"
      }
    },
    {
      "cell_type": "code",
      "source": [
        "import numpy as np\n",
        "\n",
        "A = np.array([[1,2,3],[4,5,6]])\n",
        "print(f\"A matrix is: \\n {A}\")\n",
        "\n",
        "B = 3*A\n",
        "\n",
        "print(f\"A matrix is multiplied by a Scalar value and the result matrix is: \\n {B}\") # Each element of Matrix A is multiplied with the scalar variable\n"
      ],
      "metadata": {
        "colab": {
          "base_uri": "https://localhost:8080/"
        },
        "id": "kMnUp4g2oi5n",
        "outputId": "bd789cb3-3b04-4a92-e621-f99d4edfe534"
      },
      "execution_count": 8,
      "outputs": [
        {
          "output_type": "stream",
          "name": "stdout",
          "text": [
            "A matrix is: \n",
            " [[1 2 3]\n",
            " [4 5 6]]\n",
            "A matrix is multiplied by a Scalar value and the result matrix is: \n",
            " [[ 3  6  9]\n",
            " [12 15 18]]\n"
          ]
        }
      ]
    },
    {
      "cell_type": "markdown",
      "source": [
        "## 2.2.4 Compact Representation of Systems of Linear Equation:\n",
        "\n",
        "* Let us consider the following system of Linear Equations:\n",
        "  * 2$x_1$ + 3$x_2$ + 5$x_3$ = 1\n",
        "  * 4$x_1$ - 2$x_2$ - 7$x_3$ = 8\n",
        "  * 9$x_1$ + 5$x_2$ - 3$x_3$ = 2\n",
        "* This system can be written in a compacted Matrix form as:\n",
        "$$\\begin{bmatrix} 2 & 3 & 5 \\\\ 4 & -2 & -7 \\\\ 9 & 5 & -3 \\end{bmatrix}$$ * $$\\begin{bmatrix} x1 \\\\ x2 \\\\ x3 \\end{bmatrix}$$ = $$\\begin{bmatrix} 1 \\\\ 8 \\\\ 2 \\end{bmatrix}$$\n",
        "\n",
        "* In other words we can write **A*x*=b**. \n",
        "  * Where **A*x*** is the linear combination of the columns of A matrix"
      ],
      "metadata": {
        "id": "21qt5cxbpfZt"
      }
    },
    {
      "cell_type": "code",
      "source": [
        ""
      ],
      "metadata": {
        "id": "CrMQLKzKpJ2l"
      },
      "execution_count": null,
      "outputs": []
    },
    {
      "cell_type": "markdown",
      "source": [
        "# 2.3 Solving Systems of Linear Equations:\n",
        "\n",
        "* In this section we will look into how to solve systems of Linear Equations using various ways and also provide an Algorithm for finding the Inverse of a Matrix."
      ],
      "metadata": {
        "id": "lOaOJIZys39_"
      }
    },
    {
      "cell_type": "code",
      "source": [
        ""
      ],
      "metadata": {
        "id": "MZTqw5oztLn3"
      },
      "execution_count": null,
      "outputs": []
    }
  ]
}